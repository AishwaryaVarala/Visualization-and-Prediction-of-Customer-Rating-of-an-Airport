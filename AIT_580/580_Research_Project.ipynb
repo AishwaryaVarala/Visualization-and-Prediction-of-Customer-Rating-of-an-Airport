{
 "cells": [
  {
   "cell_type": "code",
   "execution_count": 1,
   "metadata": {},
   "outputs": [],
   "source": [
    "import pandas as pd\n",
    "import numpy as np\n",
    "import matplotlib.pyplot as plt\n",
    "import  math\n",
    "import matplotlib.cm as cm"
   ]
  },
  {
   "cell_type": "code",
   "execution_count": 2,
   "metadata": {
    "collapsed": true,
    "jupyter": {
     "outputs_hidden": true
    }
   },
   "outputs": [
    {
     "name": "stdout",
     "output_type": "stream",
     "text": [
      "                                               count   mean    std  min  25%  \\\n",
      "Ease of finding your way through the airport  3501.0  4.511  0.864  0.0  4.0   \n",
      "Walking distance inside terminal              3501.0  4.404  0.908  0.0  4.0   \n",
      "Cleanliness of airport terminal               3501.0  4.383  0.833  0.0  4.0   \n",
      "Ambience of airport                           3501.0  4.244  0.881  0.0  4.0   \n",
      "Flight information screens                    3501.0  4.235  1.335  0.0  4.0   \n",
      "Feeling of safety and security                3501.0  4.202  1.197  0.0  4.0   \n",
      "Thoroughness of security inspection           3501.0  4.094  1.267  0.0  4.0   \n",
      "Wait time of security inspection              3501.0  4.033  1.287  0.0  3.0   \n",
      "Comfort of waiting/gate areas                 3501.0  4.003  1.018  0.0  3.0   \n",
      "Courtesy of security staff                    3501.0  3.971  1.421  0.0  4.0   \n",
      "Availability of washrooms                     3501.0  3.919  1.427  0.0  4.0   \n",
      "Cleanliness of washrooms                      3501.0  3.814  1.518  0.0  3.0   \n",
      "Check-in wait time                            3501.0  3.803  1.720  0.0  3.0   \n",
      "Courtesy of of check-in staff                 3501.0  3.796  1.774  0.0  3.0   \n",
      "Efficiency of check-in staff                  3501.0  3.791  1.709  0.0  3.0   \n",
      "Courtesy of airport staff                     3501.0  3.606  1.858  0.0  3.0   \n",
      "Courtesy of inspection staff                  3501.0  3.499  1.906  0.0  3.0   \n",
      "Wait time at passport inspection              3501.0  3.380  1.957  0.0  2.0   \n",
      "Restaurants                                   3501.0  3.003  1.961  0.0  0.0   \n",
      "Arrivals passport and visa inspection         3501.0  2.536  2.213  0.0  0.0   \n",
      "Restaurants (value for money)                 3501.0  2.504  1.831  0.0  0.0   \n",
      "Ground transportation to/from airport         3501.0  2.157  2.184  0.0  0.0   \n",
      "Shopping facilities                           3501.0  1.861  2.008  0.0  0.0   \n",
      "Internet access                               3501.0  1.861  1.954  0.0  0.0   \n",
      "Overall satisfaction                          3501.0  1.736  2.194  0.0  0.0   \n",
      "Shopping facilities (value for money)         3501.0  1.513  1.785  0.0  0.0   \n",
      "Customs inspection                            3501.0  1.266  1.902  0.0  0.0   \n",
      "Parking facilities                            3501.0  1.117  1.851  0.0  0.0   \n",
      "Availability of baggage carts                 3501.0  1.009  1.781  0.0  0.0   \n",
      "Parking facilities (value for money)          3501.0  1.003  1.699  0.0  0.0   \n",
      "Availability of banks/ATM/money changing      3501.0  0.889  1.690  0.0  0.0   \n",
      "Speed of baggage delivery                     3501.0  0.871  1.701  0.0  0.0   \n",
      "Business/executive lounges                    3501.0  0.472  1.302  0.0  0.0   \n",
      "Ease of making connections                    3501.0  0.352  1.225  0.0  0.0   \n",
      "\n",
      "                                              50%  75%  max  \n",
      "Ease of finding your way through the airport  5.0  5.0  5.0  \n",
      "Walking distance inside terminal              5.0  5.0  5.0  \n",
      "Cleanliness of airport terminal               5.0  5.0  5.0  \n",
      "Ambience of airport                           4.0  5.0  5.0  \n",
      "Flight information screens                    5.0  5.0  5.0  \n",
      "Feeling of safety and security                5.0  5.0  5.0  \n",
      "Thoroughness of security inspection           5.0  5.0  5.0  \n",
      "Wait time of security inspection              4.0  5.0  5.0  \n",
      "Comfort of waiting/gate areas                 4.0  5.0  5.0  \n",
      "Courtesy of security staff                    4.0  5.0  5.0  \n",
      "Availability of washrooms                     4.0  5.0  5.0  \n",
      "Cleanliness of washrooms                      4.0  5.0  5.0  \n",
      "Check-in wait time                            5.0  5.0  5.0  \n",
      "Courtesy of of check-in staff                 5.0  5.0  5.0  \n",
      "Efficiency of check-in staff                  5.0  5.0  5.0  \n",
      "Courtesy of airport staff                     4.0  5.0  5.0  \n",
      "Courtesy of inspection staff                  4.0  5.0  5.0  \n",
      "Wait time at passport inspection              4.0  5.0  5.0  \n",
      "Restaurants                                   4.0  5.0  5.0  \n",
      "Arrivals passport and visa inspection         4.0  5.0  5.0  \n",
      "Restaurants (value for money)                 3.0  4.0  5.0  \n",
      "Ground transportation to/from airport         2.0  4.0  5.0  \n",
      "Shopping facilities                           0.0  4.0  5.0  \n",
      "Internet access                               1.0  4.0  5.0  \n",
      "Overall satisfaction                          0.0  4.0  5.0  \n",
      "Shopping facilities (value for money)         0.0  3.0  5.0  \n",
      "Customs inspection                            0.0  3.0  5.0  \n",
      "Parking facilities                            0.0  3.0  5.0  \n",
      "Availability of baggage carts                 0.0  2.0  5.0  \n",
      "Parking facilities (value for money)          0.0  2.0  5.0  \n",
      "Availability of banks/ATM/money changing      0.0  0.0  5.0  \n",
      "Speed of baggage delivery                     0.0  0.0  5.0  \n",
      "Business/executive lounges                    0.0  0.0  5.0  \n",
      "Ease of making connections                    0.0  0.0  5.0  \n"
     ]
    }
   ],
   "source": [
    "df_orig = pd.read_csv(\"Airport_Quarterly_Passenger_Survey.csv\")\n",
    "########################### DATA PROCESSING ################################\n",
    "\n",
    "df = df_orig.drop(['Quarter','Date recorded','Departure time'],axis = 1)\n",
    "\n",
    "for column in df.columns:\n",
    "    df[column].fillna(df[column].mode()[0],inplace = True)\n",
    "\n",
    "df.to_csv(\"Airport_passenger_survey.csv\", index = False)\n",
    "\n",
    "df = pd.read_csv(\"Airport_passenger_survey.csv\")\n",
    "data_description = df.describe().transpose()\n",
    "data_description = data_description.apply(lambda x: round(x,3))\n",
    "data_description = data_description.sort_values(by=list(data_description.columns)[1:], ascending=False)\n",
    "data_description.to_csv('airport_survey_description.csv')\n"
   ]
  },
  {
   "cell_type": "code",
   "execution_count": 3,
   "metadata": {},
   "outputs": [
    {
     "data": {
      "image/png": "[encoded data removed]",
      "text/plain": [
       "<Figure size 432x288 with 1 Axes>"
      ]
     },
     "metadata": {
      "needs_background": "light"
     },
     "output_type": "display_data"
    },
    {
     "name": "stdout",
     "output_type": "stream",
     "text": [
      "3501\n",
      "3490\n"
     ]
    },
    {
     "data": {
      "image/png": "[encoded data removed]",
      "text/plain": [
       "<Figure size 432x288 with 1 Axes>"
      ]
     },
     "metadata": {
      "needs_background": "light"
     },
     "output_type": "display_data"
    }
   ],
   "source": [
    "####### CLASS DISTRIBUTION #######\n",
    "import matplotlib.cm as cm\n",
    "from matplotlib.colors import Normalize\n",
    "\n",
    "fig_all_class = plt.figure()\n",
    "ax_all_class = fig_all_class.add_axes([0,0,1,1])\n",
    "\n",
    "classes = ['0','1','2','3','4','5']\n",
    "counts_all_class = [len(df[df[\"Overall satisfaction\"]==0]),len(df[df[\"Overall satisfaction\"]==1]),\n",
    "          len(df[df[\"Overall satisfaction\"]==2]),len(df[df[\"Overall satisfaction\"]==3]),\n",
    "          len(df[df[\"Overall satisfaction\"]==4]),len(df[df[\"Overall satisfaction\"]==5])\n",
    "         ]\n",
    "\n",
    "\n",
    "barlist = ax_all_class.bar(classes, counts_all_class)\n",
    "barlist[0].set_color('#FF5733')\n",
    "barlist[1].set_color('#E18068')\n",
    "barlist[2].set_color('#5cab14')\n",
    "barlist[3].set_color('#C70039')\n",
    "barlist[4].set_color('#ffcaed')\n",
    "barlist[5].set_color('#cbf5ed')\n",
    "plt.title(\"Class Distribution of Overall Satisfaction\")\n",
    "plt.xlabel(\"Class\")\n",
    "plt.ylabel(\"Number of Records\")\n",
    "plt.show()\n",
    "\n",
    "\n",
    "#### REMOVE OVERALL SATISFACTION = 1 and 2 ####\n",
    "\n",
    "\n",
    "df.drop(df[df['Overall satisfaction']==1].index, inplace=True)\n",
    "df.drop(df[df['Overall satisfaction']==2].index, inplace=True)\n",
    "\n",
    "\n",
    "\n",
    "############# Class distribution after removing class values 1 and 2 #############\n",
    "fig = plt.figure()\n",
    "ax = fig.add_axes([0,0,1,1])\n",
    "counts = [len(df[df[\"Overall satisfaction\"]==0]),len(df[df[\"Overall satisfaction\"]==1]),\n",
    "          len(df[df[\"Overall satisfaction\"]==2]),len(df[df[\"Overall satisfaction\"]==3]),\n",
    "          len(df[df[\"Overall satisfaction\"]==4]),len(df[df[\"Overall satisfaction\"]==5])\n",
    "         ]\n",
    "barlist = ax.bar(classes, counts)\n",
    "barlist[0].set_color('#FF5733')\n",
    "barlist[3].set_color('#C70039')\n",
    "barlist[4].set_color('#ffcaed')\n",
    "barlist[5].set_color('#cbf5ed')\n",
    "plt.title(\"Class Distribution of Overall Satisfaction after Preprocessing\")\n",
    "plt.xlabel(\"Class\")\n",
    "plt.ylabel(\"Number of Records\")\n",
    "plt.show()\n",
    "\n"
   ]
  },
  {
   "cell_type": "code",
   "execution_count": 54,
   "metadata": {
    "collapsed": true,
    "jupyter": {
     "outputs_hidden": true
    }
   },
   "outputs": [
    {
     "ename": "KeyError",
     "evalue": "\"['Parking facilities (value for money)'] not found in axis\"",
     "output_type": "error",
     "traceback": [
      "\u001b[1;31m---------------------------------------------------------------------------\u001b[0m",
      "\u001b[1;31mKeyError\u001b[0m                                  Traceback (most recent call last)",
      "\u001b[1;32m<ipython-input-54-fdb7c65ba86d>\u001b[0m in \u001b[0;36m<module>\u001b[1;34m\u001b[0m\n\u001b[0;32m      7\u001b[0m \u001b[1;33m\u001b[0m\u001b[0m\n\u001b[0;32m      8\u001b[0m \u001b[1;31m#### Removing columns with correlation greater than 0.9 ####\u001b[0m\u001b[1;33m\u001b[0m\u001b[1;33m\u001b[0m\u001b[1;33m\u001b[0m\u001b[0m\n\u001b[1;32m----> 9\u001b[1;33m \u001b[0mdf\u001b[0m \u001b[1;33m=\u001b[0m \u001b[0mdf\u001b[0m\u001b[1;33m.\u001b[0m\u001b[0mdrop\u001b[0m\u001b[1;33m(\u001b[0m\u001b[1;33m[\u001b[0m\u001b[1;34m'Parking facilities (value for money)'\u001b[0m\u001b[1;33m]\u001b[0m\u001b[1;33m,\u001b[0m \u001b[0maxis\u001b[0m\u001b[1;33m=\u001b[0m\u001b[1;36m1\u001b[0m\u001b[1;33m)\u001b[0m\u001b[1;33m\u001b[0m\u001b[1;33m\u001b[0m\u001b[0m\n\u001b[0m\u001b[0;32m     10\u001b[0m \u001b[1;33m\u001b[0m\u001b[0m\n\u001b[0;32m     11\u001b[0m \u001b[0max\u001b[0m \u001b[1;33m=\u001b[0m \u001b[0mdf_new\u001b[0m\u001b[1;33m.\u001b[0m\u001b[0mgroupby\u001b[0m\u001b[1;33m(\u001b[0m\u001b[1;33m[\u001b[0m\u001b[1;34m'Overall satisfaction'\u001b[0m\u001b[1;33m]\u001b[0m\u001b[1;33m)\u001b[0m\u001b[1;33m[\u001b[0m\u001b[1;34m'Cleanliness of airport terminal'\u001b[0m\u001b[1;33m]\u001b[0m\u001b[1;33m.\u001b[0m\u001b[0magg\u001b[0m\u001b[1;33m(\u001b[0m\u001b[1;34m'sum'\u001b[0m\u001b[1;33m)\u001b[0m\u001b[1;33m\u001b[0m\u001b[1;33m\u001b[0m\u001b[0m\n",
      "\u001b[1;32m~\\Anaconda3\\lib\\site-packages\\pandas\\core\\frame.py\u001b[0m in \u001b[0;36mdrop\u001b[1;34m(self, labels, axis, index, columns, level, inplace, errors)\u001b[0m\n\u001b[0;32m   3938\u001b[0m                                            \u001b[0mindex\u001b[0m\u001b[1;33m=\u001b[0m\u001b[0mindex\u001b[0m\u001b[1;33m,\u001b[0m \u001b[0mcolumns\u001b[0m\u001b[1;33m=\u001b[0m\u001b[0mcolumns\u001b[0m\u001b[1;33m,\u001b[0m\u001b[1;33m\u001b[0m\u001b[1;33m\u001b[0m\u001b[0m\n\u001b[0;32m   3939\u001b[0m                                            \u001b[0mlevel\u001b[0m\u001b[1;33m=\u001b[0m\u001b[0mlevel\u001b[0m\u001b[1;33m,\u001b[0m \u001b[0minplace\u001b[0m\u001b[1;33m=\u001b[0m\u001b[0minplace\u001b[0m\u001b[1;33m,\u001b[0m\u001b[1;33m\u001b[0m\u001b[1;33m\u001b[0m\u001b[0m\n\u001b[1;32m-> 3940\u001b[1;33m                                            errors=errors)\n\u001b[0m\u001b[0;32m   3941\u001b[0m \u001b[1;33m\u001b[0m\u001b[0m\n\u001b[0;32m   3942\u001b[0m     @rewrite_axis_style_signature('mapper', [('copy', True),\n",
      "\u001b[1;32m~\\Anaconda3\\lib\\site-packages\\pandas\\core\\generic.py\u001b[0m in \u001b[0;36mdrop\u001b[1;34m(self, labels, axis, index, columns, level, inplace, errors)\u001b[0m\n\u001b[0;32m   3778\u001b[0m         \u001b[1;32mfor\u001b[0m \u001b[0maxis\u001b[0m\u001b[1;33m,\u001b[0m \u001b[0mlabels\u001b[0m \u001b[1;32min\u001b[0m \u001b[0maxes\u001b[0m\u001b[1;33m.\u001b[0m\u001b[0mitems\u001b[0m\u001b[1;33m(\u001b[0m\u001b[1;33m)\u001b[0m\u001b[1;33m:\u001b[0m\u001b[1;33m\u001b[0m\u001b[1;33m\u001b[0m\u001b[0m\n\u001b[0;32m   3779\u001b[0m             \u001b[1;32mif\u001b[0m \u001b[0mlabels\u001b[0m \u001b[1;32mis\u001b[0m \u001b[1;32mnot\u001b[0m \u001b[1;32mNone\u001b[0m\u001b[1;33m:\u001b[0m\u001b[1;33m\u001b[0m\u001b[1;33m\u001b[0m\u001b[0m\n\u001b[1;32m-> 3780\u001b[1;33m                 \u001b[0mobj\u001b[0m \u001b[1;33m=\u001b[0m \u001b[0mobj\u001b[0m\u001b[1;33m.\u001b[0m\u001b[0m_drop_axis\u001b[0m\u001b[1;33m(\u001b[0m\u001b[0mlabels\u001b[0m\u001b[1;33m,\u001b[0m \u001b[0maxis\u001b[0m\u001b[1;33m,\u001b[0m \u001b[0mlevel\u001b[0m\u001b[1;33m=\u001b[0m\u001b[0mlevel\u001b[0m\u001b[1;33m,\u001b[0m \u001b[0merrors\u001b[0m\u001b[1;33m=\u001b[0m\u001b[0merrors\u001b[0m\u001b[1;33m)\u001b[0m\u001b[1;33m\u001b[0m\u001b[1;33m\u001b[0m\u001b[0m\n\u001b[0m\u001b[0;32m   3781\u001b[0m \u001b[1;33m\u001b[0m\u001b[0m\n\u001b[0;32m   3782\u001b[0m         \u001b[1;32mif\u001b[0m \u001b[0minplace\u001b[0m\u001b[1;33m:\u001b[0m\u001b[1;33m\u001b[0m\u001b[1;33m\u001b[0m\u001b[0m\n",
      "\u001b[1;32m~\\Anaconda3\\lib\\site-packages\\pandas\\core\\generic.py\u001b[0m in \u001b[0;36m_drop_axis\u001b[1;34m(self, labels, axis, level, errors)\u001b[0m\n\u001b[0;32m   3810\u001b[0m                 \u001b[0mnew_axis\u001b[0m \u001b[1;33m=\u001b[0m \u001b[0maxis\u001b[0m\u001b[1;33m.\u001b[0m\u001b[0mdrop\u001b[0m\u001b[1;33m(\u001b[0m\u001b[0mlabels\u001b[0m\u001b[1;33m,\u001b[0m \u001b[0mlevel\u001b[0m\u001b[1;33m=\u001b[0m\u001b[0mlevel\u001b[0m\u001b[1;33m,\u001b[0m \u001b[0merrors\u001b[0m\u001b[1;33m=\u001b[0m\u001b[0merrors\u001b[0m\u001b[1;33m)\u001b[0m\u001b[1;33m\u001b[0m\u001b[1;33m\u001b[0m\u001b[0m\n\u001b[0;32m   3811\u001b[0m             \u001b[1;32melse\u001b[0m\u001b[1;33m:\u001b[0m\u001b[1;33m\u001b[0m\u001b[1;33m\u001b[0m\u001b[0m\n\u001b[1;32m-> 3812\u001b[1;33m                 \u001b[0mnew_axis\u001b[0m \u001b[1;33m=\u001b[0m \u001b[0maxis\u001b[0m\u001b[1;33m.\u001b[0m\u001b[0mdrop\u001b[0m\u001b[1;33m(\u001b[0m\u001b[0mlabels\u001b[0m\u001b[1;33m,\u001b[0m \u001b[0merrors\u001b[0m\u001b[1;33m=\u001b[0m\u001b[0merrors\u001b[0m\u001b[1;33m)\u001b[0m\u001b[1;33m\u001b[0m\u001b[1;33m\u001b[0m\u001b[0m\n\u001b[0m\u001b[0;32m   3813\u001b[0m             \u001b[0mresult\u001b[0m \u001b[1;33m=\u001b[0m \u001b[0mself\u001b[0m\u001b[1;33m.\u001b[0m\u001b[0mreindex\u001b[0m\u001b[1;33m(\u001b[0m\u001b[1;33m**\u001b[0m\u001b[1;33m{\u001b[0m\u001b[0maxis_name\u001b[0m\u001b[1;33m:\u001b[0m \u001b[0mnew_axis\u001b[0m\u001b[1;33m}\u001b[0m\u001b[1;33m)\u001b[0m\u001b[1;33m\u001b[0m\u001b[1;33m\u001b[0m\u001b[0m\n\u001b[0;32m   3814\u001b[0m \u001b[1;33m\u001b[0m\u001b[0m\n",
      "\u001b[1;32m~\\Anaconda3\\lib\\site-packages\\pandas\\core\\indexes\\base.py\u001b[0m in \u001b[0;36mdrop\u001b[1;34m(self, labels, errors)\u001b[0m\n\u001b[0;32m   4963\u001b[0m             \u001b[1;32mif\u001b[0m \u001b[0merrors\u001b[0m \u001b[1;33m!=\u001b[0m \u001b[1;34m'ignore'\u001b[0m\u001b[1;33m:\u001b[0m\u001b[1;33m\u001b[0m\u001b[1;33m\u001b[0m\u001b[0m\n\u001b[0;32m   4964\u001b[0m                 raise KeyError(\n\u001b[1;32m-> 4965\u001b[1;33m                     '{} not found in axis'.format(labels[mask]))\n\u001b[0m\u001b[0;32m   4966\u001b[0m             \u001b[0mindexer\u001b[0m \u001b[1;33m=\u001b[0m \u001b[0mindexer\u001b[0m\u001b[1;33m[\u001b[0m\u001b[1;33m~\u001b[0m\u001b[0mmask\u001b[0m\u001b[1;33m]\u001b[0m\u001b[1;33m\u001b[0m\u001b[1;33m\u001b[0m\u001b[0m\n\u001b[0;32m   4967\u001b[0m         \u001b[1;32mreturn\u001b[0m \u001b[0mself\u001b[0m\u001b[1;33m.\u001b[0m\u001b[0mdelete\u001b[0m\u001b[1;33m(\u001b[0m\u001b[0mindexer\u001b[0m\u001b[1;33m)\u001b[0m\u001b[1;33m\u001b[0m\u001b[1;33m\u001b[0m\u001b[0m\n",
      "\u001b[1;31mKeyError\u001b[0m: \"['Parking facilities (value for money)'] not found in axis\""
     ]
    },
    {
     "data": {
      "image/png": "[encoded data removed]",
      "text/plain": [
       "<Figure size 288x288 with 1 Axes>"
      ]
     },
     "metadata": {
      "needs_background": "light"
     },
     "output_type": "display_data"
    }
   ],
   "source": [
    "######  Correlation plot ######\n",
    "highly_correlated = df.corr().unstack().sort_values().drop_duplicates()\n",
    "plt.matshow(df.corr())\n",
    "plt.xlabel(\"Feature Index\")\n",
    "plt.ylabel(\"Feature Index\")\n",
    "plt.title(\"Correlation Plot\")\n",
    "\n",
    "#### Removing columns with correlation greater than 0.9 ####\n",
    "df = df.drop(['Parking facilities (value for money)'], axis=1)\n",
    "\n",
    "\n",
    "\n"
   ]
  },
  {
   "cell_type": "code",
   "execution_count": 57,
   "metadata": {},
   "outputs": [
    {
     "name": "stdout",
     "output_type": "stream",
     "text": [
      "Overall satisfaction\n",
      "0.0    9263.0\n",
      "3.0     451.0\n",
      "4.0    2224.0\n",
      "5.0    3371.0\n",
      "Name: Cleanliness of airport terminal, dtype: float64\n",
      "Overall satisfaction\n",
      "0.0    2119\n",
      "3.0     130\n",
      "4.0     538\n",
      "5.0     703\n",
      "Name: Cleanliness of airport terminal, dtype: int64\n"
     ]
    }
   ],
   "source": [
    "ax = df.groupby(['Overall satisfaction'])['Cleanliness of airport terminal'].agg('sum')\n",
    "ax_2 = df.groupby(['Overall satisfaction'])['Cleanliness of airport terminal'].agg('count')\n",
    "print(ax)\n",
    "print(ax_2)"
   ]
  },
  {
   "cell_type": "code",
   "execution_count": 11,
   "metadata": {},
   "outputs": [],
   "source": [
    "###### Obtaining a permanant train and test set ######\n",
    "\n",
    "from sklearn.utils import shuffle\n",
    "from sklearn.model_selection import train_test_split\n",
    "\n",
    "df = shuffle(df)\n",
    "\n",
    "permanent_train_set, permanent_test_set = train_test_split(df, test_size=0.2)\n",
    "perm_train_index = permanent_train_set.index\n",
    "perm_test_index = permanent_test_set.index\n"
   ]
  },
  {
   "cell_type": "code",
   "execution_count": null,
   "metadata": {},
   "outputs": [],
   "source": []
  },
  {
   "cell_type": "code",
   "execution_count": null,
   "metadata": {},
   "outputs": [],
   "source": []
  },
  {
   "cell_type": "code",
   "execution_count": 53,
   "metadata": {
    "collapsed": true,
    "jupyter": {
     "outputs_hidden": true
    }
   },
   "outputs": [
    {
     "name": "stdout",
     "output_type": "stream",
     "text": [
      "SVC(C=10, cache_size=200,\n",
      "    class_weight={0: 0.4110718492343934, 3: 7.05050505050505,\n",
      "                  4: 1.582766439909297, 5: 1.259927797833935},\n",
      "    coef0=0.0, decision_function_shape='ovr', degree=3, gamma=0.001,\n",
      "    kernel='rbf', max_iter=-1, probability=False, random_state=None,\n",
      "    shrinking=True, tol=0.001, verbose=False)\n",
      "Ranking of features:\n",
      "****************************************************************************************************\n",
      "SVC(C=10, cache_size=200,\n",
      "    class_weight={0: 0.4110718492343934, 3: 7.05050505050505,\n",
      "                  4: 1.582766439909297, 5: 1.259927797833935},\n",
      "    coef0=0.0, decision_function_shape='ovr', degree=3, gamma=0.001,\n",
      "    kernel='rbf', max_iter=-1, probability=False, random_state=None,\n",
      "    shrinking=True, tol=0.001, verbose=False)\n",
      "Ranking of features:\n",
      "****************************************************************************************************\n",
      "SVC(C=10, cache_size=200,\n",
      "    class_weight={0: 0.4110718492343934, 3: 7.05050505050505,\n",
      "                  4: 1.582766439909297, 5: 1.259927797833935},\n",
      "    coef0=0.0, decision_function_shape='ovr', degree=3, gamma=0.001,\n",
      "    kernel='rbf', max_iter=-1, probability=False, random_state=None,\n",
      "    shrinking=True, tol=0.001, verbose=False)\n",
      "Ranking of features:\n",
      "****************************************************************************************************\n",
      "SVC(C=10, cache_size=200,\n",
      "    class_weight={0: 0.4110718492343934, 3: 7.05050505050505,\n",
      "                  4: 1.582766439909297, 5: 1.259927797833935},\n",
      "    coef0=0.0, decision_function_shape='ovr', degree=3, gamma=0.001,\n",
      "    kernel='rbf', max_iter=-1, probability=False, random_state=None,\n",
      "    shrinking=True, tol=0.001, verbose=False)\n",
      "Ranking of features:\n",
      "****************************************************************************************************\n",
      "Avearge Accuracy RF =  0.8843123209169055\n",
      "Average Precision RF =  0.7423339688328034\n",
      "Average Recall RF =  0.7517640049972816\n",
      "Average F1 Score RF =  0.7354672972777825\n",
      "Support RF =  [422  30 107 139]\n",
      "Avearge Accuracy SVM =  0.8492120343839542\n",
      "Average Precision SVM =  0.7423339688328034\n",
      "Average Recall SVM =  0.7517640049972816\n",
      "Average F1 Score SVM =  0.7354672972777825\n",
      "Support SVM =  [422  30 107 139]\n"
     ]
    },
    {
     "data": {
      "text/plain": [
       "'\\n\\nrf_model = Random_Forest_calculate(random_state=0, criterion=\\'gini\\', max_depth=9, max_features=\\'auto\\', n_estimators=500, x_train=x, y_train=y, flag=1,x_test=0, y_test=0, class_weights = class_weights)\\n\\nrf_loaded_model = pickle.load(open(\\'random_forest_model.sav\\', \\'rb\\'))\\nrf_y_predicted_values = rf_loaded_model.predict(x_perm_test)\\naccuracy_score_rf = accuracy_score(y_perm_test, rf_y_predicted_values)\\nprint(\"The accuracy of Random Forest is \",accuracy_score_rf*100)\\n\\nprint(\\'Classification Report\\')\\nprint(classification_report(y_perm_test, rf_y_predicted_values))\\n\\n\\nsvm_model = SVM_classifier(C = 10, gamma =  0.001,x_train=x, y_train=y, flag = 1, x_test = 0, y_test=0, class_weights = class_weights)\\nsvm_loaded_model = pickle.load(open(\\'svm_model.sav\\',\\'rb\\'))\\nsvm_y_predicted_values = svm_loaded_model.predict(x_perm_test)\\naccuracy_score_svm = accuracy_score(y_perm_test, svm_y_predicted_values)\\nprint(\"The Accuracy of SVM\",accuracy_score_svm*100)    \\nprint(classification_report(y_perm_test, svm_y_predicted_values))\\n'"
      ]
     },
     "execution_count": 53,
     "metadata": {},
     "output_type": "execute_result"
    }
   ],
   "source": [
    "####### RANDOM FOREST ######\n",
    "\n",
    "from sklearn.ensemble import RandomForestClassifier\n",
    "from sklearn.model_selection import KFold\n",
    "from sklearn.metrics import accuracy_score\n",
    "from sklearn.model_selection import GridSearchCV, RandomizedSearchCV\n",
    "from time import time\n",
    "import statistics \n",
    "import sys\n",
    "from sklearn.metrics import precision_recall_fscore_support\n",
    "import pickle\n",
    "from sklearn import svm\n",
    "from sklearn.metrics import classification_report\n",
    "from sklearn.utils import class_weight\n",
    "\n",
    "x = permanent_train_set.iloc[:,:-1]\n",
    "y = permanent_train_set[\"Overall satisfaction\"]\n",
    "x_perm_test = permanent_test_set.iloc[:,:-1]\n",
    "y_perm_test = permanent_test_set[\"Overall satisfaction\"]\n",
    "\n",
    "accuracy_list = []\n",
    "precision_list = []\n",
    "recall_list =[]\n",
    "fscore_list = []\n",
    "support_list = []\n",
    "\n",
    "accuracy_list_svm = []\n",
    "precision_list_svm = []\n",
    "recall_list_svm =[]\n",
    "fscore_list_svm = []\n",
    "support_svm = []\n",
    "\n",
    "def metrics(y_test,y_predict):\n",
    "    \n",
    "    metrics = precision_recall_fscore_support(y_test,y_predict)\n",
    "    precision = metrics[0]\n",
    "    recall = metrics[1]\n",
    "    fscore = metrics[2]\n",
    "    support = metrics[3]\n",
    "    \n",
    "    precision_list.append(statistics.mean(precision))\n",
    "    recall_list.append(statistics.mean(recall))\n",
    "    fscore_list.append(statistics.mean(fscore))\n",
    "    support_list.append(support)\n",
    "    return (precision_list, recall_list, fscore_list, support)\n",
    "\n",
    "def Random_Forest_calculate(random_state, criterion, max_depth, max_features, n_estimators, x_train, y_train, flag, x_test=0, y_test=0,class_weights =0):\n",
    "    \n",
    "    classifier_RF = RandomForestClassifier(random_state=random_state ,criterion=criterion, max_depth=max_depth, max_features=max_features, n_estimators=n_estimators, class_weight = class_weights)\n",
    "    \n",
    "    classifier_RF.fit(x_train, y_train)\n",
    "    importances_features = classifier_RF.feature_importances_\n",
    "   \n",
    "    \n",
    "    std = np.std([tree.feature_importances_ for tree in classifier_RF.estimators_],\n",
    "             axis=0)\n",
    "    indices = np.argsort(importances_features)[::-1]\n",
    "    \n",
    "    #for f in range(x_train.shape[1]):\n",
    "        #print(\"%d. feature %d (%f)\" % (f + 1, indices[f], importances_features[indices[f]]))\n",
    "\n",
    "    \n",
    "    if(flag==1):\n",
    "        filename = 'random_forest_model.sav'\n",
    "        pickle.dump(classifier_RF,open(filename,'wb'))\n",
    "    else:\n",
    "        y_predict = classifier_RF.predict(x_test)\n",
    "        accuracy = accuracy_score(y_test,y_predict)\n",
    "        accuracy_list.append(accuracy)\n",
    "\n",
    "        precision_list, recall_list, fscore_list, support_rf = metrics(y_test,y_predict)\n",
    "        return accuracy_list, precision_list, recall_list, fscore_list, support_rf\n",
    "\n",
    "def SVM_classifier(C, gamma, x_train, y_train, flag, x_test=0, y_test=0, class_weights =0):\n",
    "    clf_svm = svm.SVC(kernel='rbf', C=C, gamma=gamma, class_weight = class_weights)\n",
    "    clf_svm.fit(x_train, y_train)\n",
    "    \n",
    "    if(flag==1):\n",
    "        filename = 'svm_model.sav'\n",
    "        pickle.dump(clf_svm,open(filename,'wb'))\n",
    "    else:\n",
    "        y_predict = clf_svm.predict(x_test)\n",
    "        accuracy = accuracy_score(y_test, y_predict)\n",
    "        accuracy_list_svm.append(accuracy)\n",
    "        precision_list_svm, recall_list_svm, fscore_list_svm, support_svm = metrics(y_test,y_predict)\n",
    "        return accuracy_list_svm, precision_list_svm, recall_list_svm, fscore_list_svm, support_svm\n",
    "\n",
    "'''\n",
    " ###### Finding Best Parameters for Random Forest #####\n",
    "\n",
    "param_grid = { \n",
    "'n_estimators': [200,900],\n",
    "'max_features': ['auto', 'sqrt', 'log2'],\n",
    "'max_depth' : [4,5,6,7,8,9,10],\n",
    "'criterion' :['gini', 'entropy']\n",
    "}\n",
    "classifier_RF = RandomForestClassifier(random_state=0)  \n",
    "crossval_RF = GridSearchCV(estimator=classifier_RF, param_grid=param_grid, cv= 5)\n",
    "crossval_RF.fit(x, y)\n",
    "print(\"BEST PARAMETERS FOR Random Forest\",crossval_RF.best_params_)\n",
    "\n",
    "  \n",
    "    ###### Finding Best Parameters for SVM #####\n",
    "param_grid = {'C': [0.1, 1, 10, 100], \n",
    "              'gamma': [1, 0.1, 0.01, 0.001, 0.00001, 10]} \n",
    "    \n",
    "classifier_SVM = GridSearchCV(svm.SVC(), param_grid, verbose=1)\n",
    "classifier_SVM.fit(x, y)\n",
    "print(\"Best Parameters for SVM \", classifier_SVM.best_params_)\n",
    "    \n",
    "\n",
    "'''\n",
    "accuracy_list_RF = []\n",
    "precision_list_RF = []\n",
    "recall_list_RF =[]\n",
    "fscore_list_RF = []\n",
    "support_RF = []\n",
    "\n",
    "accuracy_list_SVM = []\n",
    "precision_list_SVM = []\n",
    "recall_list_SVM =[]\n",
    "fscore_list_SVM = []\n",
    "support_SVM = []\n",
    "\n",
    "class_weights = class_weight.compute_class_weight('balanced', np.unique(y),y) \n",
    "class_weights = {0:class_weights[0], 3:class_weights[1], 4:class_weights[2], 5:class_weights[3]}\n",
    "\n",
    "'''\n",
    "k_fold = KFold(n_splits=4, random_state=None)\n",
    "count = 0\n",
    "for train_idx, test_idx in k_fold.split(x):\n",
    "    #print(\"TRAIN:\", train_idx, \"TEST:\", test_idx)\n",
    "    predicted_list_y_value = []\n",
    "    x_train = x.iloc[train_idx]\n",
    "    x_test  = x.iloc[test_idx]\n",
    "    y_train = y.iloc[train_idx]\n",
    "    y_test  = y.iloc[test_idx]\n",
    "    \n",
    "  \n",
    "    class_weights = class_weight.compute_class_weight('balanced', np.unique(y),y) \n",
    "    class_weights = {0:class_weights[0], 3:class_weights[1], 4:class_weights[2], 5:class_weights[3]}\n",
    "    #print(class_weights)\n",
    "    accuracy_list_SVM, precision_list_SVM, recall_list_SVM, fscore_list_SVM, support_svm = SVM_classifier(C = 10, gamma =  0.001, x_train=x_train, y_train=y_train, flag = 0, x_test = x_test, y_test=y_test, class_weights = class_weights)\n",
    "    accuracy_list_RF, precision_list_RF, recall_list_RF, fscore_list_RF, support_RF = Random_Forest_calculate(0, 'gini', 9, 'auto', 500, x_train=x_train, y_train=y_train, flag = 0, x_test=x_test, y_test=y_test, class_weights = class_weights)\n",
    "    \n",
    "    print(\"*\"*100)\n",
    "    \n",
    "    average_accuracy_RF = statistics.mean(accuracy_list_RF)\n",
    "    average_precision_RF = statistics.mean(precision_list_RF)\n",
    "    average_recall_RF = statistics.mean(recall_list_RF)\n",
    "    average_f1_RF = statistics.mean(fscore_list_RF)\n",
    "    \n",
    "    average_accuracy_SVM = statistics.mean(accuracy_list_SVM)\n",
    "    average_precision_SVM = statistics.mean(precision_list_SVM)\n",
    "    average_recall_SVM = statistics.mean(recall_list_SVM)\n",
    "    average_f1_SVM = statistics.mean(fscore_list_SVM)\n",
    "    \n",
    "    count = count+1\n",
    "    if count == 4:\n",
    "        print(\"Avearge Accuracy RF = \", average_accuracy_RF)\n",
    "        print(\"Average Precision RF = \", average_precision_RF)\n",
    "        print(\"Average Recall RF = \",average_recall_RF)   \n",
    "        print(\"Average F1 Score RF = \", average_f1_RF)\n",
    "        print(\"Support RF = \", support_RF)\n",
    "        \n",
    "        print(\"Avearge Accuracy SVM = \", average_accuracy_SVM)\n",
    "        print(\"Average Precision SVM = \", average_precision_SVM)\n",
    "        print(\"Average Recall SVM = \", average_recall_SVM)   \n",
    "        print(\"Average F1 Score SVM = \", average_f1_SVM)\n",
    "        print(\"Support SVM = \", support_svm)\n",
    "'''\n",
    "\n",
    "rf_model = Random_Forest_calculate(random_state=0, criterion='gini', max_depth=9, max_features='auto', n_estimators=500, x_train=x, y_train=y, flag=1,x_test=0, y_test=0, class_weights = class_weights)\n",
    "rf_loaded_model = pickle.load(open('random_forest_model.sav', 'rb'))\n",
    "rf_y_predicted_values = rf_loaded_model.predict(x_perm_test)\n",
    "accuracy_score_rf = accuracy_score(y_perm_test, rf_y_predicted_values)\n",
    "print(\"The accuracy of Random Forest is \",accuracy_score_rf*100)\n",
    "print('Classification Report')\n",
    "print(classification_report(y_perm_test, rf_y_predicted_values))\n",
    "\n",
    "\n",
    "svm_model = SVM_classifier(C = 10, gamma =  0.001,x_train=x, y_train=y, flag = 1, x_test = 0, y_test=0, class_weights = class_weights)\n",
    "svm_loaded_model = pickle.load(open('svm_model.sav','rb'))\n",
    "svm_y_predicted_values = svm_loaded_model.predict(x_perm_test)\n",
    "accuracy_score_svm = accuracy_score(y_perm_test, svm_y_predicted_values)\n",
    "print(\"The Accuracy of SVM\",accuracy_score_svm*100)    \n",
    "print(classification_report(y_perm_test, svm_y_predicted_values))\n"
   ]
  },
  {
   "cell_type": "code",
   "execution_count": null,
   "metadata": {},
   "outputs": [],
   "source": []
  },
  {
   "cell_type": "code",
   "execution_count": null,
   "metadata": {},
   "outputs": [],
   "source": []
  },
  {
   "cell_type": "code",
   "execution_count": 58,
   "metadata": {},
   "outputs": [
    {
     "name": "stdout",
     "output_type": "stream",
     "text": [
      "AxesSubplot(0.125,0.125;0.775x0.755)\n"
     ]
    },
    {
     "data": {
      "image/png": "[encoded data removed]",
      "text/plain": [
       "<Figure size 432x288 with 1 Axes>"
      ]
     },
     "metadata": {
      "needs_background": "light"
     },
     "output_type": "display_data"
    }
   ],
   "source": [
    "boxplot_features = df_orig.boxplot(column=['Cleanliness of washrooms','Comfort of waiting/gate areas','Cleanliness of airport terminal'],rot=25)\n",
    "boxplot_features.set_title('Box Plot for Cleanliness of washrooms, Comfort of waiting/gate areas, Cleanliness of airport terminal')\n",
    "print(boxplot_features)"
   ]
  },
  {
   "cell_type": "code",
   "execution_count": null,
   "metadata": {},
   "outputs": [],
   "source": []
  }
 ],
 "metadata": {
  "kernelspec": {
   "display_name": "Python 3",
   "language": "python",
   "name": "python3"
  },
  "language_info": {
   "codemirror_mode": {
    "name": "ipython",
    "version": 3
   },
   "file_extension": ".py",
   "mimetype": "text/x-python",
   "name": "python",
   "nbconvert_exporter": "python",
   "pygments_lexer": "ipython3",
   "version": "3.7.3"
  }
 },
 "nbformat": 4,
 "nbformat_minor": 4
}
